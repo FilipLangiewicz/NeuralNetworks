{
 "cells": [
  {
   "cell_type": "code",
   "execution_count": 1,
   "metadata": {
    "ExecuteTime": {
     "end_time": "2025-03-02T17:56:30.092041Z",
     "start_time": "2025-03-02T17:56:29.173432Z"
    }
   },
   "outputs": [],
   "source": [
    "import numpy as np\n",
    "import pandas as pd\n",
    "import matplotlib.pyplot as plt"
   ]
  },
  {
   "cell_type": "code",
   "execution_count": 2,
   "metadata": {
    "ExecuteTime": {
     "end_time": "2025-03-02T17:56:30.217097Z",
     "start_time": "2025-03-02T17:56:30.140342Z"
    }
   },
   "outputs": [],
   "source": [
    "class MLPNoBackprop:\n",
    "    \n",
    "    def __init__(self, \n",
    "                 layer_sizes,\n",
    "                 hidden_activation='sigmoid',\n",
    "                 output_activation='linear'):\n",
    "        \"\"\"\n",
    "        layer_sizes: a list specifying the number of neurons in each layer, e.g. [1, 6, 1]:\n",
    "            - 1: number of neurons in the input layer (input dimension),\n",
    "            - 6: number of neurons in the hidden layer,\n",
    "            - 1: number of neurons in the output layer.\n",
    "        \n",
    "        hidden_activation: Activation function for hidden layers ('sigmoid' or 'linear').\n",
    "        output_activation: Activation function for the output layer ('sigmoid' or 'linear').\n",
    "        \"\"\"\n",
    "        \n",
    "        activation_functions = {\n",
    "            'sigmoid' : sigmoid,\n",
    "            'linear' : linear\n",
    "        }\n",
    "        \n",
    "        self.layer_sizes = layer_sizes\n",
    "        self.hidden_activation = activation_functions.get(hidden_activation)\n",
    "        self.output_activation = activation_functions.get(output_activation)\n",
    "        \n",
    "        self.weights = []\n",
    "        self.biases = []\n",
    "        \n",
    "        for i in range(len(layer_sizes) - 1):\n",
    "            self.weights.append(np.random.randn(layer_sizes[i], layer_sizes[i+1]))\n",
    "            self.biases.append(np.zeros(layer_sizes[i+1], ))\n",
    "        \n",
    "        \n",
    "\n",
    "    def forward(self, X):\n",
    "        \"\"\"\n",
    "        Signal propagation through the network.\n",
    "        \n",
    "        X is the input matrix (number of samples × input dimension) or a one-dimensional vector.\n",
    "        \n",
    "        Returns a list of activations of each layer and the final output of the network.\n",
    "        \"\"\"\n",
    "        \n",
    "        activations = [X]\n",
    "        \n",
    "        # hidden layers\n",
    "        for layer_idx in range(len(self.layer_sizes) - 2):\n",
    "            activations.append(\n",
    "                self.hidden_activation(np.dot(activations[layer_idx], self.weights[layer_idx]) + self.biases[layer_idx])\n",
    "            )\n",
    "        \n",
    "        # output layers\n",
    "        activations.append(\n",
    "            self.output_activation(np.dot(activations[layer_idx + 1], self.weights[layer_idx + 1]) + self.biases[layer_idx + 1])\n",
    "        )\n",
    "        \n",
    "        return activations\n",
    "\n",
    "\n",
    "    def predict(self, X):\n",
    "        \"\"\"\n",
    "        Returns the network output, i.e., the final activation.\n",
    "        \"\"\"\n",
    "        return np.array(self.forward(X)[-1]).reshape(-1,)\n",
    "    \n",
    "\n",
    "    def set_weights_and_biases(self, layer_idx, W, b):\n",
    "        \"\"\"\n",
    "        Allows manually setting the weights and biases for a layer with the given layer_idx.  \n",
    "        \n",
    "        layer_idx specifies the layer number (0 = first connection, 1 = second, etc.).  \n",
    "        W is the new weight matrix with dimensions [layer_sizes[layer_idx], layer_sizes[layer_idx+1]].  \n",
    "        b is the new bias vector with dimensions [layer_sizes[layer_idx+1], ].  \n",
    "        \"\"\"\n",
    "        self.weights[layer_idx] = W\n",
    "        self.biases[layer_idx] = b\n",
    "\n",
    "\n",
    "    def mse(self, y_true, y_pred):\n",
    "        \"\"\"\n",
    "        Mean Squared Error (MSE).\n",
    "        \"\"\"\n",
    "        return np.mean((y_true - y_pred) ** 2)\n",
    "\n",
    "\n",
    "def sigmoid(x):\n",
    "    return 1 / (1 + np.exp(-x))\n",
    "\n",
    "def linear(x):\n",
    "    return x\n"
   ]
  },
  {
   "cell_type": "markdown",
   "metadata": {},
   "source": [
    "# **Square-simple dataset**"
   ]
  },
  {
   "cell_type": "code",
   "execution_count": 3,
   "metadata": {
    "ExecuteTime": {
     "end_time": "2025-03-02T17:56:36.074989Z",
     "start_time": "2025-03-02T17:56:32.849601Z"
    }
   },
   "outputs": [
    {
     "data": {
      "application/vnd.microsoft.datawrangler.viewer.v0+json": {
       "columns": [
        {
         "name": "index",
         "rawType": "int64",
         "type": "integer"
        },
        {
         "name": "x",
         "rawType": "float64",
         "type": "float"
        },
        {
         "name": "y",
         "rawType": "float64",
         "type": "float"
        }
       ],
       "conversionMethod": "pd.DataFrame",
       "ref": "75204e7f-7130-4d34-8b6a-8a01836f0d1c",
       "rows": [
        [
         "0",
         "-0.980436876532622",
         "-43.4869178021461"
        ],
        [
         "1",
         "-1.21907436696347",
         "3.75280809686433"
        ],
        [
         "2",
         "0.124243429629132",
         "-128.610721317459"
        ],
        [
         "3",
         "1.22778856509831",
         "5.6718284527546"
        ],
        [
         "4",
         "1.06734785845038",
         "-27.4691694155257"
        ]
       ],
       "shape": {
        "columns": 2,
        "rows": 5
       }
      },
      "text/html": [
       "<div>\n",
       "<style scoped>\n",
       "    .dataframe tbody tr th:only-of-type {\n",
       "        vertical-align: middle;\n",
       "    }\n",
       "\n",
       "    .dataframe tbody tr th {\n",
       "        vertical-align: top;\n",
       "    }\n",
       "\n",
       "    .dataframe thead th {\n",
       "        text-align: right;\n",
       "    }\n",
       "</style>\n",
       "<table border=\"1\" class=\"dataframe\">\n",
       "  <thead>\n",
       "    <tr style=\"text-align: right;\">\n",
       "      <th></th>\n",
       "      <th>x</th>\n",
       "      <th>y</th>\n",
       "    </tr>\n",
       "  </thead>\n",
       "  <tbody>\n",
       "    <tr>\n",
       "      <th>0</th>\n",
       "      <td>-0.980437</td>\n",
       "      <td>-43.486918</td>\n",
       "    </tr>\n",
       "    <tr>\n",
       "      <th>1</th>\n",
       "      <td>-1.219074</td>\n",
       "      <td>3.752808</td>\n",
       "    </tr>\n",
       "    <tr>\n",
       "      <th>2</th>\n",
       "      <td>0.124243</td>\n",
       "      <td>-128.610721</td>\n",
       "    </tr>\n",
       "    <tr>\n",
       "      <th>3</th>\n",
       "      <td>1.227789</td>\n",
       "      <td>5.671828</td>\n",
       "    </tr>\n",
       "    <tr>\n",
       "      <th>4</th>\n",
       "      <td>1.067348</td>\n",
       "      <td>-27.469169</td>\n",
       "    </tr>\n",
       "  </tbody>\n",
       "</table>\n",
       "</div>"
      ],
      "text/plain": [
       "          x           y\n",
       "0 -0.980437  -43.486918\n",
       "1 -1.219074    3.752808\n",
       "2  0.124243 -128.610721\n",
       "3  1.227789    5.671828\n",
       "4  1.067348  -27.469169"
      ]
     },
     "execution_count": 3,
     "metadata": {},
     "output_type": "execute_result"
    }
   ],
   "source": [
    "import pandas as pd \n",
    "square_simple_test = pd.read_csv('./data/regression/square-simple-test.csv')\n",
    "square_simple_test.drop(square_simple_test.columns[0], axis = 1, inplace = True)\n",
    "square_simple_test.head()"
   ]
  },
  {
   "cell_type": "code",
   "execution_count": 4,
   "metadata": {
    "ExecuteTime": {
     "end_time": "2025-03-02T17:56:36.653592Z",
     "start_time": "2025-03-02T17:56:36.585836Z"
    }
   },
   "outputs": [
    {
     "data": {
      "application/vnd.microsoft.datawrangler.viewer.v0+json": {
       "columns": [
        {
         "name": "index",
         "rawType": "int64",
         "type": "integer"
        },
        {
         "name": "x",
         "rawType": "float64",
         "type": "float"
        }
       ],
       "conversionMethod": "pd.DataFrame",
       "ref": "cf2514b4-458b-4797-8f9c-8a05568bb19f",
       "rows": [
        [
         "0",
         "-0.980436876532622"
        ],
        [
         "1",
         "-1.21907436696347"
        ],
        [
         "2",
         "0.124243429629132"
        ],
        [
         "3",
         "1.22778856509831"
        ],
        [
         "4",
         "1.06734785845038"
        ],
        [
         "5",
         "1.36030655540526"
        ],
        [
         "6",
         "-0.904431315604597"
        ],
        [
         "7",
         "1.80652113934048"
        ],
        [
         "8",
         "-0.472316555213183"
        ],
        [
         "9",
         "-0.978247816441581"
        ],
        [
         "10",
         "1.01782506948803"
        ],
        [
         "11",
         "-0.365699166315608"
        ],
        [
         "12",
         "1.22583324485458"
        ],
        [
         "13",
         "-0.119456493644975"
        ],
        [
         "14",
         "0.875075037707575"
        ],
        [
         "15",
         "1.21538764960133"
        ],
        [
         "16",
         "-0.842458345927298"
        ],
        [
         "17",
         "-1.3981996338116"
        ],
        [
         "18",
         "-1.02500171028078"
        ],
        [
         "19",
         "0.880574623472057"
        ],
        [
         "20",
         "1.7718803382013"
        ],
        [
         "21",
         "0.42672929528635"
        ],
        [
         "22",
         "0.606181823997758"
        ],
        [
         "23",
         "-0.810519291553646"
        ],
        [
         "24",
         "0.373328136978671"
        ],
        [
         "25",
         "-0.871554912533611"
        ],
        [
         "26",
         "0.0816027304390445"
        ],
        [
         "27",
         "-0.390313268755563"
        ],
        [
         "28",
         "-1.09338865359314"
        ],
        [
         "29",
         "-0.848642451339401"
        ],
        [
         "30",
         "1.05405533825979"
        ],
        [
         "31",
         "-0.0584477507509291"
        ],
        [
         "32",
         "-0.050826113903895"
        ],
        [
         "33",
         "0.181085451506078"
        ],
        [
         "34",
         "-0.003769370377995"
        ],
        [
         "35",
         "-1.02228373952676"
        ],
        [
         "36",
         "1.38637792225927"
        ],
        [
         "37",
         "0.573064848897047"
        ],
        [
         "38",
         "1.28038942173589"
        ],
        [
         "39",
         "1.19161348999478"
        ],
        [
         "40",
         "1.71319746039808"
        ],
        [
         "41",
         "1.5192042196868"
        ],
        [
         "42",
         "-0.390586667694151"
        ],
        [
         "43",
         "-0.592587984050624"
        ],
        [
         "44",
         "1.09793258178979"
        ],
        [
         "45",
         "1.1157639088342"
        ],
        [
         "46",
         "1.71266411908437"
        ],
        [
         "47",
         "1.27616923220921"
        ],
        [
         "48",
         "-1.03334633610211"
        ],
        [
         "49",
         "-0.492875867406838"
        ]
       ],
       "shape": {
        "columns": 1,
        "rows": 100
       }
      },
      "text/html": [
       "<div>\n",
       "<style scoped>\n",
       "    .dataframe tbody tr th:only-of-type {\n",
       "        vertical-align: middle;\n",
       "    }\n",
       "\n",
       "    .dataframe tbody tr th {\n",
       "        vertical-align: top;\n",
       "    }\n",
       "\n",
       "    .dataframe thead th {\n",
       "        text-align: right;\n",
       "    }\n",
       "</style>\n",
       "<table border=\"1\" class=\"dataframe\">\n",
       "  <thead>\n",
       "    <tr style=\"text-align: right;\">\n",
       "      <th></th>\n",
       "      <th>x</th>\n",
       "    </tr>\n",
       "  </thead>\n",
       "  <tbody>\n",
       "    <tr>\n",
       "      <th>0</th>\n",
       "      <td>-0.980437</td>\n",
       "    </tr>\n",
       "    <tr>\n",
       "      <th>1</th>\n",
       "      <td>-1.219074</td>\n",
       "    </tr>\n",
       "    <tr>\n",
       "      <th>2</th>\n",
       "      <td>0.124243</td>\n",
       "    </tr>\n",
       "    <tr>\n",
       "      <th>3</th>\n",
       "      <td>1.227789</td>\n",
       "    </tr>\n",
       "    <tr>\n",
       "      <th>4</th>\n",
       "      <td>1.067348</td>\n",
       "    </tr>\n",
       "    <tr>\n",
       "      <th>...</th>\n",
       "      <td>...</td>\n",
       "    </tr>\n",
       "    <tr>\n",
       "      <th>95</th>\n",
       "      <td>1.315377</td>\n",
       "    </tr>\n",
       "    <tr>\n",
       "      <th>96</th>\n",
       "      <td>-1.196968</td>\n",
       "    </tr>\n",
       "    <tr>\n",
       "      <th>97</th>\n",
       "      <td>1.544766</td>\n",
       "    </tr>\n",
       "    <tr>\n",
       "      <th>98</th>\n",
       "      <td>0.441051</td>\n",
       "    </tr>\n",
       "    <tr>\n",
       "      <th>99</th>\n",
       "      <td>-0.025176</td>\n",
       "    </tr>\n",
       "  </tbody>\n",
       "</table>\n",
       "<p>100 rows × 1 columns</p>\n",
       "</div>"
      ],
      "text/plain": [
       "           x\n",
       "0  -0.980437\n",
       "1  -1.219074\n",
       "2   0.124243\n",
       "3   1.227789\n",
       "4   1.067348\n",
       "..       ...\n",
       "95  1.315377\n",
       "96 -1.196968\n",
       "97  1.544766\n",
       "98  0.441051\n",
       "99 -0.025176\n",
       "\n",
       "[100 rows x 1 columns]"
      ]
     },
     "execution_count": 4,
     "metadata": {},
     "output_type": "execute_result"
    }
   ],
   "source": [
    "X = square_simple_test.iloc[:, 0:(len(square_simple_test.iloc[1]) - 1)]\n",
    "X"
   ]
  },
  {
   "cell_type": "code",
   "execution_count": 5,
   "metadata": {
    "ExecuteTime": {
     "end_time": "2025-03-02T17:56:37.280989Z",
     "start_time": "2025-03-02T17:56:37.264696Z"
    }
   },
   "outputs": [
    {
     "data": {
      "text/plain": [
       "array([ -43.4869178 ,    3.7528081 , -128.61072132,    5.67182845,\n",
       "        -27.46916942,   36.53905322,  -56.38035958,  163.71667642,\n",
       "       -109.92253645,  -43.87280887,  -36.76289151, -117.96377078,\n",
       "          5.24004298, -128.71571315,  -61.08193105,    2.94504249,\n",
       "        -66.12375418,   45.94659944,  -35.44343445,  -60.21294992,\n",
       "        152.56039396, -113.61118977,  -96.92892366,  -70.87526302,\n",
       "       -117.45634919,  -61.6352831 , -129.40068949, -116.2889997 ,\n",
       "        -22.4051127 ,  -65.18253908,  -30.00706095, -129.69254744,\n",
       "       -129.76750355, -127.04872533, -129.99872127,  -35.94423603,\n",
       "         42.9839369 , -100.44370111,   17.54573642,   -2.20515614,\n",
       "        134.15409845,   77.7183315 , -116.26978495,  -98.3955533 ,\n",
       "        -21.50896413,  -17.95638098,  133.98965463,   16.57471183,\n",
       "        -33.89758147, -108.13660414,  -69.68552784,    9.36397857,\n",
       "        -30.97383527,  -31.11726539,    9.97642442,   25.40471118,\n",
       "       -118.23465865,  -19.72530026,  -20.87078975,  -28.95151017,\n",
       "         99.79902096, -121.35720974,   67.6047287 , -129.77691346,\n",
       "        -49.21564086, -129.79146125,  190.49225136, -126.54052217,\n",
       "        -95.8050971 ,  -98.55565967, -115.81120275,  -76.00435529,\n",
       "       -120.63751961,   18.99813567, -129.42991787,   55.49627515,\n",
       "       -106.47788817, -123.76182729, -114.42561341,  107.51443159,\n",
       "       -125.84102712,  -57.21536249, -115.55615619,  183.08622097,\n",
       "       -115.44792375,   39.36539837, -113.72005709,  -64.83531778,\n",
       "         29.3892914 ,  -93.1198144 , -123.38417339,  -49.89600078,\n",
       "       -112.91826717,   56.25634102,  225.66947795,   25.71940264,\n",
       "         -1.0541075 ,   84.76730296, -112.49269935, -129.94295737])"
      ]
     },
     "execution_count": 5,
     "metadata": {},
     "output_type": "execute_result"
    }
   ],
   "source": [
    "y = np.array(square_simple_test.iloc[:,-1])\n",
    "y"
   ]
  },
  {
   "cell_type": "markdown",
   "metadata": {},
   "source": [
    "### One hidden layer, 5 neurons"
   ]
  },
  {
   "cell_type": "code",
   "execution_count": 6,
   "metadata": {
    "ExecuteTime": {
     "end_time": "2025-03-02T17:56:42.116144Z",
     "start_time": "2025-03-02T17:56:42.095218Z"
    }
   },
   "outputs": [
    {
     "name": "stdout",
     "output_type": "stream",
     "text": [
      "MSE: 2.6496676032300615\n"
     ]
    },
    {
     "data": {
      "text/plain": [
       "<function matplotlib.pyplot.show(close=None, block=None)>"
      ]
     },
     "execution_count": 6,
     "metadata": {},
     "output_type": "execute_result"
    },
    {
     "data": {
      "image/png": "[encoded data removed]",
      "text/plain": [
       "<Figure size 640x480 with 1 Axes>"
      ]
     },
     "metadata": {},
     "output_type": "display_data"
    }
   ],
   "source": [
    "NN = MLPNoBackprop([1, 5, 1])\n",
    "\n",
    "W0 = np.array([[1.50, -1.50, 2.30, 2.30, 2.30]])\n",
    "b0 = np.array([[-3, -3, 1, 1, 1]])\n",
    "NN.set_weights_and_biases(0, W0, b0)\n",
    "\n",
    "W1 = np.array([[880], [900], [1], [1], [1]])\n",
    "b1 = np.array([-215.20])\n",
    "NN.set_weights_and_biases(1, W1, b1)\n",
    "\n",
    "y_pred = NN.predict(X)\n",
    "print(f'MSE: {NN.mse(y_true = y, y_pred = y_pred)}')\n",
    "plt.plot(X, y, 'o')\n",
    "plt.plot(X, y_pred, 'o')\n",
    "plt.show\n"
   ]
  },
  {
   "cell_type": "markdown",
   "metadata": {},
   "source": [
    "# **Steps-large dataset**"
   ]
  },
  {
   "cell_type": "code",
   "execution_count": 7,
   "metadata": {
    "ExecuteTime": {
     "end_time": "2025-03-02T17:56:44.185346Z",
     "start_time": "2025-03-02T17:56:44.136316Z"
    }
   },
   "outputs": [
    {
     "data": {
      "application/vnd.microsoft.datawrangler.viewer.v0+json": {
       "columns": [
        {
         "name": "index",
         "rawType": "int64",
         "type": "integer"
        },
        {
         "name": "x",
         "rawType": "float64",
         "type": "float"
        },
        {
         "name": "y",
         "rawType": "int64",
         "type": "integer"
        }
       ],
       "conversionMethod": "pd.DataFrame",
       "ref": "834372d7-6983-4ec0-a904-0571475af866",
       "rows": [
        [
         "0",
         "1.70698996633291",
         "160"
        ],
        [
         "1",
         "-0.604580447659828",
         "-80"
        ],
        [
         "2",
         "-0.674405462690629",
         "-80"
        ],
        [
         "3",
         "1.34156175074168",
         "80"
        ],
        [
         "4",
         "-1.4274342644494",
         "-80"
        ]
       ],
       "shape": {
        "columns": 2,
        "rows": 5
       }
      },
      "text/html": [
       "<div>\n",
       "<style scoped>\n",
       "    .dataframe tbody tr th:only-of-type {\n",
       "        vertical-align: middle;\n",
       "    }\n",
       "\n",
       "    .dataframe tbody tr th {\n",
       "        vertical-align: top;\n",
       "    }\n",
       "\n",
       "    .dataframe thead th {\n",
       "        text-align: right;\n",
       "    }\n",
       "</style>\n",
       "<table border=\"1\" class=\"dataframe\">\n",
       "  <thead>\n",
       "    <tr style=\"text-align: right;\">\n",
       "      <th></th>\n",
       "      <th>x</th>\n",
       "      <th>y</th>\n",
       "    </tr>\n",
       "  </thead>\n",
       "  <tbody>\n",
       "    <tr>\n",
       "      <th>0</th>\n",
       "      <td>1.706990</td>\n",
       "      <td>160</td>\n",
       "    </tr>\n",
       "    <tr>\n",
       "      <th>1</th>\n",
       "      <td>-0.604580</td>\n",
       "      <td>-80</td>\n",
       "    </tr>\n",
       "    <tr>\n",
       "      <th>2</th>\n",
       "      <td>-0.674405</td>\n",
       "      <td>-80</td>\n",
       "    </tr>\n",
       "    <tr>\n",
       "      <th>3</th>\n",
       "      <td>1.341562</td>\n",
       "      <td>80</td>\n",
       "    </tr>\n",
       "    <tr>\n",
       "      <th>4</th>\n",
       "      <td>-1.427434</td>\n",
       "      <td>-80</td>\n",
       "    </tr>\n",
       "  </tbody>\n",
       "</table>\n",
       "</div>"
      ],
      "text/plain": [
       "          x    y\n",
       "0  1.706990  160\n",
       "1 -0.604580  -80\n",
       "2 -0.674405  -80\n",
       "3  1.341562   80\n",
       "4 -1.427434  -80"
      ]
     },
     "execution_count": 7,
     "metadata": {},
     "output_type": "execute_result"
    }
   ],
   "source": [
    "steps_large_test = pd.read_csv('./data/regression/steps-large-test.csv')\n",
    "steps_large_test.drop(steps_large_test.columns[0], axis = 1, inplace = True)\n",
    "steps_large_test.head()"
   ]
  },
  {
   "cell_type": "code",
   "execution_count": 8,
   "metadata": {
    "ExecuteTime": {
     "end_time": "2025-03-02T17:56:44.648198Z",
     "start_time": "2025-03-02T17:56:44.610287Z"
    }
   },
   "outputs": [
    {
     "data": {
      "application/vnd.microsoft.datawrangler.viewer.v0+json": {
       "columns": [
        {
         "name": "index",
         "rawType": "int64",
         "type": "integer"
        },
        {
         "name": "x",
         "rawType": "float64",
         "type": "float"
        }
       ],
       "conversionMethod": "pd.DataFrame",
       "ref": "7fc2f793-1abf-4b87-a6a7-fe4569dff1d6",
       "rows": [
        [
         "0",
         "1.70698996633291"
        ],
        [
         "1",
         "-0.604580447659828"
        ],
        [
         "2",
         "-0.674405462690629"
        ],
        [
         "3",
         "1.34156175074168"
        ],
        [
         "4",
         "-1.4274342644494"
        ],
        [
         "5",
         "1.15537349693477"
        ],
        [
         "6",
         "-0.453587883268483"
        ],
        [
         "7",
         "-1.43031223979779"
        ],
        [
         "8",
         "-0.750848518800922"
        ],
        [
         "9",
         "-0.816292132018134"
        ],
        [
         "10",
         "-1.4019634956494"
        ],
        [
         "11",
         "-1.37766628537793"
        ],
        [
         "12",
         "0.520906719961204"
        ],
        [
         "13",
         "1.52608160744421"
        ],
        [
         "14",
         "0.435462412657216"
        ],
        [
         "15",
         "0.0850758912274614"
        ],
        [
         "16",
         "-0.89836185623426"
        ],
        [
         "17",
         "0.997783557511866"
        ],
        [
         "18",
         "1.94432198104914"
        ],
        [
         "19",
         "-1.32027674524579"
        ],
        [
         "20",
         "1.74943391920533"
        ],
        [
         "21",
         "0.469520746613853"
        ],
        [
         "22",
         "-0.568633963004686"
        ],
        [
         "23",
         "1.91400869190693"
        ],
        [
         "24",
         "1.68260177003685"
        ],
        [
         "25",
         "-0.999876797082834"
        ],
        [
         "26",
         "-1.0792599049164"
        ],
        [
         "27",
         "0.953504033386707"
        ],
        [
         "28",
         "0.454271291848272"
        ],
        [
         "29",
         "1.41492117661983"
        ],
        [
         "30",
         "1.96014089544769"
        ],
        [
         "31",
         "-1.33388167642988"
        ],
        [
         "32",
         "1.38324765569996"
        ],
        [
         "33",
         "0.974906724062748"
        ],
        [
         "34",
         "-0.278598913690075"
        ],
        [
         "35",
         "0.915757928742096"
        ],
        [
         "36",
         "-1.4468859587796"
        ],
        [
         "37",
         "-0.0326116003561765"
        ],
        [
         "38",
         "1.18080783530604"
        ],
        [
         "39",
         "1.7346276770113"
        ],
        [
         "40",
         "-0.788861224427819"
        ],
        [
         "41",
         "0.540993863483891"
        ],
        [
         "42",
         "1.83756269398145"
        ],
        [
         "43",
         "-0.0878670279635116"
        ],
        [
         "44",
         "1.6693804328097"
        ],
        [
         "45",
         "0.118386890040711"
        ],
        [
         "46",
         "0.73071556573268"
        ],
        [
         "47",
         "-1.02008579450194"
        ],
        [
         "48",
         "1.72265566349961"
        ],
        [
         "49",
         "1.05644546204712"
        ]
       ],
       "shape": {
        "columns": 1,
        "rows": 1000
       }
      },
      "text/html": [
       "<div>\n",
       "<style scoped>\n",
       "    .dataframe tbody tr th:only-of-type {\n",
       "        vertical-align: middle;\n",
       "    }\n",
       "\n",
       "    .dataframe tbody tr th {\n",
       "        vertical-align: top;\n",
       "    }\n",
       "\n",
       "    .dataframe thead th {\n",
       "        text-align: right;\n",
       "    }\n",
       "</style>\n",
       "<table border=\"1\" class=\"dataframe\">\n",
       "  <thead>\n",
       "    <tr style=\"text-align: right;\">\n",
       "      <th></th>\n",
       "      <th>x</th>\n",
       "    </tr>\n",
       "  </thead>\n",
       "  <tbody>\n",
       "    <tr>\n",
       "      <th>0</th>\n",
       "      <td>1.706990</td>\n",
       "    </tr>\n",
       "    <tr>\n",
       "      <th>1</th>\n",
       "      <td>-0.604580</td>\n",
       "    </tr>\n",
       "    <tr>\n",
       "      <th>2</th>\n",
       "      <td>-0.674405</td>\n",
       "    </tr>\n",
       "    <tr>\n",
       "      <th>3</th>\n",
       "      <td>1.341562</td>\n",
       "    </tr>\n",
       "    <tr>\n",
       "      <th>4</th>\n",
       "      <td>-1.427434</td>\n",
       "    </tr>\n",
       "    <tr>\n",
       "      <th>...</th>\n",
       "      <td>...</td>\n",
       "    </tr>\n",
       "    <tr>\n",
       "      <th>995</th>\n",
       "      <td>-1.374447</td>\n",
       "    </tr>\n",
       "    <tr>\n",
       "      <th>996</th>\n",
       "      <td>-0.764941</td>\n",
       "    </tr>\n",
       "    <tr>\n",
       "      <th>997</th>\n",
       "      <td>-0.304863</td>\n",
       "    </tr>\n",
       "    <tr>\n",
       "      <th>998</th>\n",
       "      <td>1.681272</td>\n",
       "    </tr>\n",
       "    <tr>\n",
       "      <th>999</th>\n",
       "      <td>0.686654</td>\n",
       "    </tr>\n",
       "  </tbody>\n",
       "</table>\n",
       "<p>1000 rows × 1 columns</p>\n",
       "</div>"
      ],
      "text/plain": [
       "            x\n",
       "0    1.706990\n",
       "1   -0.604580\n",
       "2   -0.674405\n",
       "3    1.341562\n",
       "4   -1.427434\n",
       "..        ...\n",
       "995 -1.374447\n",
       "996 -0.764941\n",
       "997 -0.304863\n",
       "998  1.681272\n",
       "999  0.686654\n",
       "\n",
       "[1000 rows x 1 columns]"
      ]
     },
     "execution_count": 8,
     "metadata": {},
     "output_type": "execute_result"
    }
   ],
   "source": [
    "X = steps_large_test.iloc[:, 0:(len(steps_large_test.iloc[1]) - 1)]\n",
    "X"
   ]
  },
  {
   "cell_type": "code",
   "execution_count": 9,
   "metadata": {
    "ExecuteTime": {
     "end_time": "2025-03-02T17:56:45.454568Z",
     "start_time": "2025-03-02T17:56:45.419120Z"
    }
   },
   "outputs": [
    {
     "data": {
      "text/plain": [
       "array([160, -80, -80,  80, -80,  80,   0, -80, -80, -80, -80, -80,  80,\n",
       "       160,   0,   0, -80,  80, 160, -80, 160,   0, -80, 160, 160, -80,\n",
       "       -80,  80,   0,  80, 160, -80,  80,  80,   0,  80, -80,   0,  80,\n",
       "       160, -80,  80, 160,   0, 160,   0,  80, -80, 160,  80, -80,   0,\n",
       "       160,   0, 160,  80, 160,   0,  80, -80, -80,  80,   0,   0,   0,\n",
       "       -80, 160,   0, -80, -80,   0,  80,  80,  80, -80,   0,   0,   0,\n",
       "       160,  80,   0, -80, 160,   0,   0, -80,  80,   0,  80,  80, 160,\n",
       "        80,   0,   0, -80,  80, -80, -80,  80, 160,   0, -80, -80,  80,\n",
       "        80, -80,  80, 160, -80, -80, -80,  80, -80,   0, 160,   0,  80,\n",
       "        80,   0,  80,  80, -80,   0,  80, -80,  80,  80, -80,  80, -80,\n",
       "       -80,   0, 160,  80,   0,   0, -80, -80, 160, -80,   0, -80, -80,\n",
       "         0,   0,   0,  80,  80, 160, -80,  80, -80,   0,  80, -80,  80,\n",
       "        80,   0, -80,  80,  80,   0,   0, -80, -80, -80,  80, 160,   0,\n",
       "       -80,   0, -80, 160, -80,   0, 160,  80,   0,   0,   0, 160,   0,\n",
       "         0,   0, -80,   0, -80,   0, -80,  80, -80,   0, 160,  80,   0,\n",
       "        80,   0,   0,  80, -80, 160, -80,   0, -80,   0, -80,  80,  80,\n",
       "       160, -80,  80, 160, -80, 160,  80, -80,   0, -80,   0,  80,  80,\n",
       "        80, 160,   0, -80,  80, -80,  80,   0,   0,   0,   0,  80,  80,\n",
       "         0, 160,   0, -80, 160,  80,  80, -80, -80,   0, -80, -80,  80,\n",
       "       -80, 160, -80,   0, 160, -80, -80, -80,   0, -80, -80,   0,  80,\n",
       "        80, 160,  80,  80,  80,  80, 160, -80,  80, 160,  80, 160, -80,\n",
       "        80,  80,  80,   0, -80, -80,  80,   0, -80,  80,   0, 160,   0,\n",
       "       160,   0, -80,   0,  80,   0, -80, -80,  80, -80, -80, -80, -80,\n",
       "       -80,  80,   0,  80, -80, -80,   0,  80, -80, 160, -80,  80,   0,\n",
       "       160,   0,   0, -80, 160,  80,  80,  80,  80, -80, -80, -80,  80,\n",
       "        80, 160, 160,  80, -80, -80,  80, -80,  80,  80,  80, -80, 160,\n",
       "       160,   0,   0, -80,  80,   0, -80,   0, 160, -80,   0,  80,  80,\n",
       "       -80, -80, -80,  80,  80,  80,  80, -80, 160,   0, -80, -80,  80,\n",
       "       -80, 160,  80,  80,   0,   0,   0,  80, -80, -80, -80,   0,  80,\n",
       "       -80, -80,  80,  80,   0,   0, -80,   0,   0,   0,   0, -80, -80,\n",
       "        80,   0,  80,  80,   0, -80,  80,   0,  80,  80,  80, -80,  80,\n",
       "        80,  80,   0, -80,   0, 160, -80,  80,  80,  80,  80,   0, -80,\n",
       "       -80,   0,   0,   0,   0, 160, -80, -80,  80, -80,   0, -80, 160,\n",
       "       160,   0, 160, 160,  80, -80,  80, -80, -80,   0, -80, 160, 160,\n",
       "       -80,  80, 160, 160,  80, -80,  80,  80, -80,  80,   0,  80, -80,\n",
       "       -80,   0,   0,   0, 160,  80, 160,   0,  80, -80, -80,   0,  80,\n",
       "        80,   0,  80, -80,  80,  80, 160, 160,  80,   0, -80,   0, 160,\n",
       "       -80,  80,   0,   0,   0, 160, -80, -80,   0,   0, -80, 160,   0,\n",
       "        80,  80,  80,  80, -80, -80, -80,  80, -80, -80, -80,   0, 160,\n",
       "       160,   0, 160, -80,  80,   0, 160, 160, -80,  80,   0,   0, -80,\n",
       "       -80,   0,  80, -80,   0,  80,  80, -80,   0,   0,   0, -80,  80,\n",
       "       160,  80,  80,   0,  80, 160, -80, -80, 160,  80, -80,  80,  80,\n",
       "       -80,  80, -80,   0,  80,   0,  80, 160,  80,  80,  80, 160,  80,\n",
       "       -80,   0, -80,   0,   0,  80,   0,  80,   0, 160, -80,   0,   0,\n",
       "       -80, -80,   0,  80,  80,   0,  80, -80,   0, 160,  80, 160,  80,\n",
       "       160,  80,  80, 160,  80, 160,  80,  80,   0,  80, 160, -80,   0,\n",
       "        80,   0, -80,   0,   0,   0, 160,   0,   0,  80,  80,  80,  80,\n",
       "       160,   0,   0, -80, -80,  80,   0, 160,   0,   0,   0, -80, 160,\n",
       "         0, -80, -80,  80, -80, -80, 160, 160, -80,  80,   0,   0, 160,\n",
       "         0, -80,  80, -80,  80,   0,  80, 160,   0,   0,  80, -80,  80,\n",
       "         0, 160, -80, -80,  80,   0,   0,  80,   0, -80, -80, -80, 160,\n",
       "        80, -80,  80, -80, -80,   0,   0, -80, -80, 160, -80,   0,   0,\n",
       "       -80,   0,  80,   0,  80, -80,  80,   0, -80, -80, -80,  80,  80,\n",
       "        80,   0,  80,   0,  80,  80, -80,   0, -80,   0,   0,   0,  80,\n",
       "         0,   0,   0, -80,   0, -80,  80,  80, -80,  80, 160, 160,  80,\n",
       "         0, -80,  80,   0, 160, 160,   0, 160,   0,  80,   0,   0,   0,\n",
       "       -80,  80, -80,   0,  80, 160,  80, -80,  80,   0, 160,  80, 160,\n",
       "         0,   0, 160,  80,   0,   0,  80,  80, 160, 160, -80,   0, -80,\n",
       "        80, -80, -80, -80,   0,   0, -80, -80,   0, 160, -80,   0,   0,\n",
       "       160,   0,   0,   0,  80, -80,   0, -80, 160,   0,  80, 160,   0,\n",
       "       160,  80,   0,   0,  80,   0, 160,   0, -80, -80,   0,   0,  80,\n",
       "       160,  80,  80,   0,  80,  80, -80,   0, -80,   0, 160, -80, -80,\n",
       "        80, 160,  80,  80,  80,  80,   0,   0, 160,   0,  80, -80, 160,\n",
       "        80,   0, -80, -80,  80,  80,  80, -80,  80, -80, -80,   0, -80,\n",
       "       160, 160, -80, 160, -80,   0, 160,  80,   0, -80, 160,   0, 160,\n",
       "       -80, 160, 160,  80,  80, -80, -80, -80,  80, -80, 160, -80,   0,\n",
       "       -80, 160,   0, -80, -80, -80, -80,   0, -80, 160,   0, 160,   0,\n",
       "         0, -80,  80, 160,  80,   0,   0,  80,   0,  80, 160,  80, -80,\n",
       "         0, -80,   0,   0, -80,   0,  80,   0, -80, -80,  80, -80,   0,\n",
       "         0, -80, -80,   0, 160,  80,   0, -80, -80,  80,  80, -80, 160,\n",
       "         0,   0, -80,   0, -80,   0, -80, -80, -80,  80,   0,  80,  80,\n",
       "        80, -80,   0,  80,  80, -80,   0,  80,   0,   0, -80, 160,   0,\n",
       "         0,  80,  80,  80,  80,   0,   0, 160,  80, 160, -80, -80, 160,\n",
       "       -80,  80,   0,   0,  80,   0, -80, -80,  80,  80,   0,  80, 160,\n",
       "       -80,   0,  80, -80,  80,  80, 160,  80, -80,  80,  80,  80, -80,\n",
       "       -80,   0,  80,  80,   0, 160,  80, -80,   0,  80,  80,   0,  80,\n",
       "        80,   0, 160, 160,   0,   0, 160, -80, -80,   0, 160,  80])"
      ]
     },
     "execution_count": 9,
     "metadata": {},
     "output_type": "execute_result"
    }
   ],
   "source": [
    "y = np.array(steps_large_test['y'])\n",
    "y"
   ]
  },
  {
   "cell_type": "markdown",
   "metadata": {},
   "source": [
    "### One hidden layer, 5 neurons"
   ]
  },
  {
   "cell_type": "code",
   "execution_count": 10,
   "metadata": {},
   "outputs": [
    {
     "name": "stdout",
     "output_type": "stream",
     "text": [
      "MSE: 4.0158697060099655\n"
     ]
    },
    {
     "name": "stderr",
     "output_type": "stream",
     "text": [
      "C:\\Users\\flang\\AppData\\Local\\Temp\\ipykernel_9548\\1862931590.py:87: RuntimeWarning: overflow encountered in exp\n",
      "  return 1 / (1 + np.exp(-x))\n"
     ]
    },
    {
     "data": {
      "text/plain": [
       "<function matplotlib.pyplot.show(close=None, block=None)>"
      ]
     },
     "execution_count": 10,
     "metadata": {},
     "output_type": "execute_result"
    },
    {
     "data": {
      "image/png": "[encoded data removed]",
      "text/plain": [
       "<Figure size 640x480 with 1 Axes>"
      ]
     },
     "metadata": {},
     "output_type": "display_data"
    }
   ],
   "source": [
    "NN = MLPNoBackprop([1, 5, 1])\n",
    "\n",
    "W0 = np.array([[600, 600, 600, 0, 0]])\n",
    "b0 = np.array([300, -300, -900, 0, 0])\n",
    "NN.set_weights_and_biases(0, W0, b0)\n",
    "\n",
    "W1 = np.array([[80], [80], [80], [0], [0]])\n",
    "b1 = np.array([-80])\n",
    "NN.set_weights_and_biases(1, W1, b1)\n",
    "\n",
    "y_pred = NN.predict(X)\n",
    "print(f'MSE: {NN.mse(y_true = y, y_pred = y_pred)}')\n",
    "plt.plot(X, y, 'o')\n",
    "plt.plot(X, y_pred, 'o')\n",
    "plt.show"
   ]
  },
  {
   "cell_type": "markdown",
   "metadata": {},
   "source": [
    "### One hidden layer, 10 neurons"
   ]
  },
  {
   "cell_type": "code",
   "execution_count": 11,
   "metadata": {},
   "outputs": [
    {
     "name": "stdout",
     "output_type": "stream",
     "text": [
      "MSE: 4.0158697060099655\n"
     ]
    },
    {
     "name": "stderr",
     "output_type": "stream",
     "text": [
      "C:\\Users\\flang\\AppData\\Local\\Temp\\ipykernel_9548\\1862931590.py:87: RuntimeWarning: overflow encountered in exp\n",
      "  return 1 / (1 + np.exp(-x))\n"
     ]
    },
    {
     "data": {
      "text/plain": [
       "<function matplotlib.pyplot.show(close=None, block=None)>"
      ]
     },
     "execution_count": 11,
     "metadata": {},
     "output_type": "execute_result"
    },
    {
     "data": {
      "image/png": "[encoded data removed]",
      "text/plain": [
       "<Figure size 640x480 with 1 Axes>"
      ]
     },
     "metadata": {},
     "output_type": "display_data"
    }
   ],
   "source": [
    "NN = MLPNoBackprop([1, 10, 1])\n",
    "\n",
    "W0 = np.array([[600, 600, 600, 0, 0, 0, 0, 0, 0, 0]])\n",
    "b0 = np.array([300, -300, -900, 0, 0, 0, 0, 0, 0, 0])\n",
    "NN.set_weights_and_biases(0, W0, b0)\n",
    "\n",
    "W1 = np.array([[80], [80], [80], [0], [0], [0], [0], [0], [0], [0]])\n",
    "b1 = np.array([-80])\n",
    "NN.set_weights_and_biases(1, W1, b1)\n",
    "\n",
    "y_pred = NN.predict(X)\n",
    "print(f'MSE: {NN.mse(y_true = y, y_pred = y_pred)}')\n",
    "plt.plot(X, y, 'o')\n",
    "plt.plot(X, y_pred, 'o')\n",
    "plt.show\n"
   ]
  },
  {
   "cell_type": "markdown",
   "metadata": {},
   "source": [
    "### Two hidden layers, 5 neurons each"
   ]
  },
  {
   "cell_type": "code",
   "execution_count": 12,
   "metadata": {
    "ExecuteTime": {
     "end_time": "2025-03-02T18:09:27.341661Z",
     "start_time": "2025-03-02T18:09:27.298563Z"
    }
   },
   "outputs": [
    {
     "name": "stdout",
     "output_type": "stream",
     "text": [
      "MSE: 6.0807290547148485\n"
     ]
    },
    {
     "name": "stderr",
     "output_type": "stream",
     "text": [
      "C:\\Users\\flang\\AppData\\Local\\Temp\\ipykernel_9548\\1862931590.py:87: RuntimeWarning: overflow encountered in exp\n",
      "  return 1 / (1 + np.exp(-x))\n"
     ]
    },
    {
     "data": {
      "text/plain": [
       "<function matplotlib.pyplot.show(close=None, block=None)>"
      ]
     },
     "execution_count": 12,
     "metadata": {},
     "output_type": "execute_result"
    },
    {
     "data": {
      "image/png": "[encoded data removed]",
      "text/plain": [
       "<Figure size 640x480 with 1 Axes>"
      ]
     },
     "metadata": {},
     "output_type": "display_data"
    }
   ],
   "source": [
    "NN = MLPNoBackprop([1, 5, 5, 1])\n",
    "\n",
    "W0 = np.array([[1200, 900, 800, 0, 0]])\n",
    "b0 = np.array([600, -450, -1200, 0, 0])\n",
    "NN.set_weights_and_biases(0, W0, b0)\n",
    "\n",
    "W1 = np.array([[6, 0, 0, 0, 0], [0, 6, 0, 0, 0], [0, 0, 6, 0, 0], [0, 0, 0, 0, 0], [0, 0, 0, 0, 0]])\n",
    "b1 = np.array([0, 0, 0, 0, 0])\n",
    "NN.set_weights_and_biases(1, W1, b1)\n",
    "\n",
    "W2 = np.array([[160], [160], [160], [0], [0]])\n",
    "b2 = np.array([-320])\n",
    "NN.set_weights_and_biases(2, W2, b2)\n",
    "\n",
    "y_pred = NN.predict(X)\n",
    "print(f'MSE: {NN.mse(y_true = y, y_pred = y_pred)}')\n",
    "plt.plot(X, y, 'o')\n",
    "plt.plot(X, y_pred, 'o')\n",
    "plt.show"
   ]
  }
 ],
 "metadata": {
  "kernelspec": {
   "display_name": "Python 3",
   "language": "python",
   "name": "python3"
  },
  "language_info": {
   "codemirror_mode": {
    "name": "ipython",
    "version": 3
   },
   "file_extension": ".py",
   "mimetype": "text/x-python",
   "name": "python",
   "nbconvert_exporter": "python",
   "pygments_lexer": "ipython3",
   "version": "3.11.9"
  }
 },
 "nbformat": 4,
 "nbformat_minor": 2
}
